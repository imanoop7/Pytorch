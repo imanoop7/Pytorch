{
  "cells": [
    {
      "cell_type": "markdown",
      "metadata": {
        "id": "IHPmFIaBsjCe"
      },
      "source": [
        "### https://www.learnpytorch.io/00_pytorch_fundamentals/"
      ]
    },
    {
      "cell_type": "code",
      "execution_count": 1,
      "metadata": {
        "id": "AlZDQOCQcP4h"
      },
      "outputs": [],
      "source": [
        "import torch"
      ]
    },
    {
      "cell_type": "code",
      "execution_count": null,
      "metadata": {
        "colab": {
          "base_uri": "https://localhost:8080/",
          "height": 36
        },
        "id": "qHZ89pispBWf",
        "outputId": "3d99113b-92ad-4abb-d361-105f990aa4e4"
      },
      "outputs": [
        {
          "data": {
            "application/vnd.google.colaboratory.intrinsic+json": {
              "type": "string"
            },
            "text/plain": [
              "'2.2.1+cu121'"
            ]
          },
          "execution_count": 2,
          "metadata": {},
          "output_type": "execute_result"
        }
      ],
      "source": [
        "# to check torch version\n",
        "torch.__version__"
      ]
    },
    {
      "cell_type": "code",
      "execution_count": null,
      "metadata": {
        "colab": {
          "base_uri": "https://localhost:8080/"
        },
        "id": "32IqZgtgpI1u",
        "outputId": "a89dee3a-5127-43aa-a145-6310bf5ff9e5"
      },
      "outputs": [
        {
          "data": {
            "text/plain": [
              "tensor(7)"
            ]
          },
          "execution_count": 3,
          "metadata": {},
          "output_type": "execute_result"
        }
      ],
      "source": [
        "# creating scaler\n",
        "# A scalar is a single number and in tensor-speak it's a zero dimension tensor.\n",
        "\n",
        "scalar = torch.tensor(7)\n",
        "scalar"
      ]
    },
    {
      "cell_type": "code",
      "execution_count": null,
      "metadata": {
        "colab": {
          "base_uri": "https://localhost:8080/"
        },
        "id": "V170c_dopruX",
        "outputId": "5a042d32-c008-49c0-aed6-91341b6dfd88"
      },
      "outputs": [
        {
          "data": {
            "text/plain": [
              "0"
            ]
          },
          "execution_count": 4,
          "metadata": {},
          "output_type": "execute_result"
        }
      ],
      "source": [
        "scalar.ndim"
      ]
    },
    {
      "cell_type": "code",
      "execution_count": null,
      "metadata": {
        "colab": {
          "base_uri": "https://localhost:8080/"
        },
        "id": "fNA6MQ5DpxtG",
        "outputId": "30f80004-e41a-4f3c-cc73-749536d6704a"
      },
      "outputs": [
        {
          "data": {
            "text/plain": [
              "7"
            ]
          },
          "execution_count": 5,
          "metadata": {},
          "output_type": "execute_result"
        }
      ],
      "source": [
        "# Get the Python number within a tensor (only works with one-element tensors)\n",
        "scalar.item()"
      ]
    },
    {
      "cell_type": "code",
      "execution_count": null,
      "metadata": {
        "colab": {
          "base_uri": "https://localhost:8080/"
        },
        "id": "pCcPXJN2p8sS",
        "outputId": "b5d1c651-cb32-428f-8c15-18185965ca09"
      },
      "outputs": [
        {
          "data": {
            "text/plain": [
              "tensor([7, 7])"
            ]
          },
          "execution_count": 6,
          "metadata": {},
          "output_type": "execute_result"
        }
      ],
      "source": [
        "# creating vector\n",
        "# A vector is a single dimension tensor but can contain many numbers.\n",
        "\n",
        "vector = torch.tensor([7, 7])\n",
        "vector"
      ]
    },
    {
      "cell_type": "code",
      "execution_count": null,
      "metadata": {
        "colab": {
          "base_uri": "https://localhost:8080/"
        },
        "id": "-sB9rlCiqOWG",
        "outputId": "f4d89593-78d4-46f6-a4bd-080e2fe10b64"
      },
      "outputs": [
        {
          "name": "stdout",
          "output_type": "stream",
          "text": [
            "1\n"
          ]
        }
      ],
      "source": [
        "# Check the number of dimensions of vector\n",
        "\"\"\"\n",
        "You can tell the number of dimensions a tensor\n",
        "in PyTorch has by the number of square brackets on the outside\n",
        "([) and you only need to count one side.\n",
        "\"\"\"\n",
        "\n",
        "print(vector.ndim)\n",
        "\n",
        "\n"
      ]
    },
    {
      "cell_type": "code",
      "execution_count": null,
      "metadata": {
        "colab": {
          "base_uri": "https://localhost:8080/"
        },
        "id": "hqM_rA64qQYV",
        "outputId": "9c08fda5-784e-481d-e4a8-270a51582bc5"
      },
      "outputs": [
        {
          "data": {
            "text/plain": [
              "torch.Size([2])"
            ]
          },
          "execution_count": 11,
          "metadata": {},
          "output_type": "execute_result"
        }
      ],
      "source": [
        "\"\"\"\n",
        "Another important concept for tensors is their\n",
        "shape attribute. The shape tells\n",
        "you how the elements inside them are arranged.\n",
        "\"\"\"\n",
        "\n",
        "# Check shape of vector\n",
        "vector.shape\n"
      ]
    },
    {
      "cell_type": "code",
      "execution_count": null,
      "metadata": {
        "colab": {
          "base_uri": "https://localhost:8080/"
        },
        "id": "BwQTEKkdqtja",
        "outputId": "ab593491-963a-4504-b961-3e8e33557222"
      },
      "outputs": [
        {
          "data": {
            "text/plain": [
              "tensor([[ 7,  8],\n",
              "        [ 9, 10]])"
            ]
          },
          "execution_count": 12,
          "metadata": {},
          "output_type": "execute_result"
        }
      ],
      "source": [
        "# Matrix\n",
        "# MATRIX has two dimensions\n",
        "MATRIX = torch.tensor([[7, 8],\n",
        "                       [9, 10]])\n",
        "MATRIX"
      ]
    },
    {
      "cell_type": "code",
      "execution_count": null,
      "metadata": {
        "colab": {
          "base_uri": "https://localhost:8080/"
        },
        "id": "QrpbQh7xq05f",
        "outputId": "eaab0a84-b020-46eb-e43f-d770888f2098"
      },
      "outputs": [
        {
          "data": {
            "text/plain": [
              "2"
            ]
          },
          "execution_count": 13,
          "metadata": {},
          "output_type": "execute_result"
        }
      ],
      "source": [
        "# Check number of dimensions\n",
        "MATRIX.ndim"
      ]
    },
    {
      "cell_type": "code",
      "execution_count": null,
      "metadata": {
        "colab": {
          "base_uri": "https://localhost:8080/"
        },
        "id": "ewxIm7Lwq9lF",
        "outputId": "491a6085-6eca-46f3-aec4-37c16f09f6d5"
      },
      "outputs": [
        {
          "data": {
            "text/plain": [
              "torch.Size([2, 2])"
            ]
          },
          "execution_count": 16,
          "metadata": {},
          "output_type": "execute_result"
        }
      ],
      "source": [
        "# shape\n",
        "MATRIX.shape"
      ]
    },
    {
      "cell_type": "code",
      "execution_count": null,
      "metadata": {
        "colab": {
          "base_uri": "https://localhost:8080/"
        },
        "id": "TNg2ztIYq_tq",
        "outputId": "9ed73a7e-d4e2-4260-a3a0-0bcaac256924"
      },
      "outputs": [
        {
          "data": {
            "text/plain": [
              "tensor([[[1, 2, 3],\n",
              "         [3, 6, 9],\n",
              "         [2, 4, 5]]])"
            ]
          },
          "execution_count": 18,
          "metadata": {},
          "output_type": "execute_result"
        }
      ],
      "source": [
        "# Tensor\n",
        "# an n-dimensional array of numbers\n",
        "# tensors can represent almost anything.\n",
        "TENSOR = torch.tensor([[[1, 2, 3],\n",
        "                        [3, 6, 9],\n",
        "                        [2, 4, 5]]])\n",
        "TENSOR"
      ]
    },
    {
      "cell_type": "code",
      "execution_count": null,
      "metadata": {
        "colab": {
          "base_uri": "https://localhost:8080/"
        },
        "id": "gXMqypLKrdQW",
        "outputId": "ac00bb7c-3a4a-4dfe-c943-281e33c2c70e"
      },
      "outputs": [
        {
          "data": {
            "text/plain": [
              "3"
            ]
          },
          "execution_count": 19,
          "metadata": {},
          "output_type": "execute_result"
        }
      ],
      "source": [
        "# Check number of dimensions for TENSOR\n",
        "TENSOR.ndim"
      ]
    },
    {
      "cell_type": "code",
      "execution_count": null,
      "metadata": {
        "colab": {
          "base_uri": "https://localhost:8080/"
        },
        "id": "QCs7hMberlIt",
        "outputId": "85be74ae-6765-4eee-c9a4-c5bf3bc1a723"
      },
      "outputs": [
        {
          "data": {
            "text/plain": [
              "torch.Size([1, 3, 3])"
            ]
          },
          "execution_count": 20,
          "metadata": {},
          "output_type": "execute_result"
        }
      ],
      "source": [
        "# Check shape of TENSOR\n",
        "TENSOR.shape"
      ]
    },
    {
      "cell_type": "code",
      "execution_count": null,
      "metadata": {
        "colab": {
          "base_uri": "https://localhost:8080/"
        },
        "id": "0-huzwhLrm8r",
        "outputId": "5b4312d1-12e6-4fb5-8087-24babd89af45"
      },
      "outputs": [
        {
          "data": {
            "text/plain": [
              "(tensor([[0.2052, 0.0808, 0.2324, 0.5859],\n",
              "         [0.7169, 0.8739, 0.3005, 0.0937],\n",
              "         [0.4160, 0.3038, 0.8428, 0.5236]]),\n",
              " torch.float32)"
            ]
          },
          "execution_count": 21,
          "metadata": {},
          "output_type": "execute_result"
        }
      ],
      "source": [
        "# Create a random tensor of size (3, 4)\n",
        "random_tensor = torch.rand(size=(3, 4))\n",
        "random_tensor, random_tensor.dtype"
      ]
    },
    {
      "cell_type": "code",
      "execution_count": null,
      "metadata": {
        "colab": {
          "base_uri": "https://localhost:8080/"
        },
        "id": "7u5n3tLJsMO0",
        "outputId": "556d980b-a1b6-46a1-ed32-660c3ff173a9"
      },
      "outputs": [
        {
          "data": {
            "text/plain": [
              "(torch.Size([224, 224, 3]), 3)"
            ]
          },
          "execution_count": 22,
          "metadata": {},
          "output_type": "execute_result"
        }
      ],
      "source": [
        "# Create a random tensor of size (224, 224, 3)\n",
        "random_image_size_tensor = torch.rand(size=(224, 224, 3))\n",
        "random_image_size_tensor.shape, random_image_size_tensor.ndim"
      ]
    },
    {
      "cell_type": "code",
      "execution_count": null,
      "metadata": {
        "colab": {
          "base_uri": "https://localhost:8080/"
        },
        "id": "sGgks_kXsUUB",
        "outputId": "d71d1637-d4c4-496a-cd67-443e629d57fd"
      },
      "outputs": [
        {
          "data": {
            "text/plain": [
              "(tensor([[0., 0., 0., 0.],\n",
              "         [0., 0., 0., 0.],\n",
              "         [0., 0., 0., 0.]]),\n",
              " torch.float32)"
            ]
          },
          "execution_count": 23,
          "metadata": {},
          "output_type": "execute_result"
        }
      ],
      "source": [
        "# Create a tensor of all zeros\n",
        "zeros = torch.zeros(size=(3, 4))\n",
        "zeros, zeros.dtype"
      ]
    },
    {
      "cell_type": "code",
      "execution_count": null,
      "metadata": {
        "colab": {
          "base_uri": "https://localhost:8080/"
        },
        "id": "qOkeaPmLscyR",
        "outputId": "5587108b-3179-47e4-9106-c535708807a0"
      },
      "outputs": [
        {
          "data": {
            "text/plain": [
              "(tensor([[0., 0., 0., 0.],\n",
              "         [0., 0., 0., 0.],\n",
              "         [0., 0., 0., 0.]]),\n",
              " torch.float32)"
            ]
          },
          "execution_count": 25,
          "metadata": {},
          "output_type": "execute_result"
        }
      ],
      "source": [
        "# Create a tensor of all zeros\n",
        "zeros = torch.zeros(size=(3, 4))\n",
        "zeros, zeros.dtype"
      ]
    },
    {
      "cell_type": "code",
      "execution_count": null,
      "metadata": {
        "colab": {
          "base_uri": "https://localhost:8080/"
        },
        "id": "2oS83ItCspot",
        "outputId": "69a61a32-a4c5-42ab-8aaf-1e509dea71b5"
      },
      "outputs": [
        {
          "data": {
            "text/plain": [
              "(tensor([[1., 1., 1., 1.],\n",
              "         [1., 1., 1., 1.],\n",
              "         [1., 1., 1., 1.]]),\n",
              " torch.float32)"
            ]
          },
          "execution_count": 26,
          "metadata": {},
          "output_type": "execute_result"
        }
      ],
      "source": [
        "# Create a tensor of all ones\n",
        "ones = torch.ones(size=(3, 4))\n",
        "ones, ones.dtype"
      ]
    },
    {
      "cell_type": "code",
      "execution_count": null,
      "metadata": {
        "colab": {
          "base_uri": "https://localhost:8080/"
        },
        "id": "kWLy3WQfsr8v",
        "outputId": "6e458975-f30e-4aec-dad5-c4df25e3fa38"
      },
      "outputs": [
        {
          "data": {
            "text/plain": [
              "tensor([0, 1, 2, 3, 4, 5, 6, 7, 8, 9])"
            ]
          },
          "execution_count": 31,
          "metadata": {},
          "output_type": "execute_result"
        }
      ],
      "source": [
        "# Use torch.arange(), torch.range() is deprecated\n",
        "zero_to_ten = torch.arange(0, 10)\n",
        "\n",
        "# Create a range of values 0 to 10\n",
        "zero_to_ten = torch.arange(start=0, end=10, step=1)\n",
        "zero_to_ten"
      ]
    },
    {
      "cell_type": "code",
      "execution_count": null,
      "metadata": {
        "colab": {
          "base_uri": "https://localhost:8080/"
        },
        "id": "FbeA1SnUsxrR",
        "outputId": "b01cfd9b-829d-45e8-a2ba-69561e8d8829"
      },
      "outputs": [
        {
          "data": {
            "text/plain": [
              "tensor([0, 0, 0, 0, 0, 0, 0, 0, 0, 0])"
            ]
          },
          "execution_count": 32,
          "metadata": {},
          "output_type": "execute_result"
        }
      ],
      "source": [
        "# Can also create a tensor of zeros similar to another tensor\n",
        "ten_zeros = torch.zeros_like(input=zero_to_ten) # will have same shape\n",
        "ten_zeros"
      ]
    },
    {
      "cell_type": "markdown",
      "metadata": {
        "id": "he4gTQnK_vHr"
      },
      "source": [
        "### Tensor Datatypes![Screenshot 2024-04-27 125242.jpg](data:image/jpeg;base64,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)"
      ]
    },
    {
      "cell_type": "code",
      "execution_count": 2,
      "metadata": {
        "colab": {
          "base_uri": "https://localhost:8080/"
        },
        "id": "7ZNbevf2tE00",
        "outputId": "624cde80-9d8f-4ea6-b8f8-7f94a168864e"
      },
      "outputs": [
        {
          "data": {
            "text/plain": [
              "(torch.Size([3]), torch.float32, device(type='cpu'))"
            ]
          },
          "execution_count": 2,
          "metadata": {},
          "output_type": "execute_result"
        }
      ],
      "source": [
        "# default datatype for tensors is float32\n",
        "\n",
        "float_32_tensor = torch.tensor([3.0,6.0,9.0],\n",
        "                               dtype= None, # defaults to None, which is torch.float32 or whatever datatype is passed\n",
        "                               device = None,# defaults to None, which uses the default tensor type\n",
        "                               requires_grad = False )# if True, operations performed on the tensor are recorded\n",
        "\n",
        "\n",
        "\n",
        "float_32_tensor.shape, float_32_tensor.dtype, float_32_tensor.device"
      ]
    },
    {
      "cell_type": "code",
      "execution_count": 4,
      "metadata": {
        "colab": {
          "base_uri": "https://localhost:8080/"
        },
        "id": "CQyzzu3OTEHc",
        "outputId": "10a337de-460e-422a-9492-3cc3bc30d61f"
      },
      "outputs": [
        {
          "data": {
            "text/plain": [
              "torch.float16"
            ]
          },
          "execution_count": 4,
          "metadata": {},
          "output_type": "execute_result"
        }
      ],
      "source": [
        "float_16_tensor = torch.tensor(\n",
        "    [3.0,6.0,9.0],\n",
        "    dtype = torch.float16\n",
        ")\n",
        "\n",
        "float_16_tensor.dtype"
      ]
    },
    {
      "cell_type": "markdown",
      "metadata": {
        "id": "CEAZqnOSTrCK"
      },
      "source": [
        "* shape - what shape is the tensor? (some operations require specific shape rules)\n",
        "* dtype - what datatype are the elements within the tensor stored in?\n",
        "* device - what device is the tensor stored on? (usually GPU or CPU)"
      ]
    },
    {
      "cell_type": "code",
      "execution_count": 5,
      "metadata": {
        "colab": {
          "base_uri": "https://localhost:8080/"
        },
        "id": "-pgcAu7UTiZ6",
        "outputId": "6cd8a25c-f2af-4d7b-f865-8710e1f78a22"
      },
      "outputs": [
        {
          "name": "stdout",
          "output_type": "stream",
          "text": [
            "tensor([[0.2758, 0.1173, 0.8625, 0.8390],\n",
            "        [0.0644, 0.7662, 0.0379, 0.5868],\n",
            "        [0.0851, 0.3693, 0.4651, 0.5865]])\n",
            "Shape of tensor: torch.Size([3, 4])\n",
            "Datatype of tensor: torch.float32\n",
            "Device tensor is stored on: cpu\n"
          ]
        }
      ],
      "source": [
        "some_tensor = torch.rand(3,4)\n",
        "\n",
        "# Find out details about it\n",
        "print(some_tensor)\n",
        "print(f\"Shape of tensor: {some_tensor.shape}\")\n",
        "print(f\"Datatype of tensor: {some_tensor.dtype}\")\n",
        "print(f\"Device tensor is stored on: {some_tensor.device}\") # will default to CPU\n"
      ]
    },
    {
      "cell_type": "markdown",
      "metadata": {
        "id": "Xk3piT7tXBAb"
      },
      "source": [
        "### Manipulating tensors (tensor operations)\n",
        "In deep learning, data (images, text, video, audio, protein structures, etc) gets represented as tensors.\n",
        "\n",
        "\n",
        "* Addition\n",
        "* Substraction\n",
        "* Multiplication (element-wise)\n",
        "* Division\n",
        "* Matrix multiplication\n"
      ]
    },
    {
      "cell_type": "code",
      "execution_count": 7,
      "metadata": {
        "colab": {
          "base_uri": "https://localhost:8080/"
        },
        "id": "dCmX-nYeW4I6",
        "outputId": "8dc39d0b-471e-4764-eae3-50aa1cc8dca2"
      },
      "outputs": [
        {
          "data": {
            "text/plain": [
              "tensor([11, 12, 13])"
            ]
          },
          "execution_count": 7,
          "metadata": {},
          "output_type": "execute_result"
        }
      ],
      "source": [
        "tensor = torch.tensor([1,2,3])\n",
        "# adding 10 to tensor\n",
        "tensor +10"
      ]
    },
    {
      "cell_type": "code",
      "execution_count": 8,
      "metadata": {
        "colab": {
          "base_uri": "https://localhost:8080/"
        },
        "id": "oJrbS53BXXBw",
        "outputId": "b0a256fc-bdc9-4b3b-95fe-fc23b3062bb9"
      },
      "outputs": [
        {
          "data": {
            "text/plain": [
              "tensor([10, 20, 30])"
            ]
          },
          "execution_count": 8,
          "metadata": {},
          "output_type": "execute_result"
        }
      ],
      "source": [
        "# multiply it by 10\n",
        "\n",
        "tensor * 10"
      ]
    },
    {
      "cell_type": "code",
      "execution_count": 11,
      "metadata": {
        "id": "w9eqfw86XlAK"
      },
      "outputs": [],
      "source": [
        "# Subtract and reassign\n",
        "tensor = tensor - 10"
      ]
    },
    {
      "cell_type": "code",
      "execution_count": 12,
      "metadata": {
        "colab": {
          "base_uri": "https://localhost:8080/"
        },
        "id": "VTPvTohIXrc6",
        "outputId": "035cfa38-f27f-4ad7-b40d-1097f399d815"
      },
      "outputs": [
        {
          "data": {
            "text/plain": [
              "tensor([-19, -18, -17])"
            ]
          },
          "execution_count": 12,
          "metadata": {},
          "output_type": "execute_result"
        }
      ],
      "source": [
        "tensor"
      ]
    },
    {
      "cell_type": "code",
      "execution_count": 13,
      "metadata": {
        "colab": {
          "base_uri": "https://localhost:8080/"
        },
        "id": "VOip5FHcXsQG",
        "outputId": "174b898b-3253-466a-ca35-95841b7096dc"
      },
      "outputs": [
        {
          "data": {
            "text/plain": [
              "tensor([-190, -180, -170])"
            ]
          },
          "execution_count": 13,
          "metadata": {},
          "output_type": "execute_result"
        }
      ],
      "source": [
        "# PyTorch also has a bunch of built-in functions like torch.mul() (short for multiplication) and torch.add() to perform basic operations.\n",
        "\n",
        "\n",
        "torch.multiply(tensor, 10)"
      ]
    },
    {
      "cell_type": "code",
      "execution_count": 14,
      "metadata": {
        "colab": {
          "base_uri": "https://localhost:8080/"
        },
        "id": "rxDbp20GX9BG",
        "outputId": "062f95d9-9a2a-4e85-efa5-feb405651d5a"
      },
      "outputs": [
        {
          "data": {
            "text/plain": [
              "tensor([-190, -180, -170])"
            ]
          },
          "execution_count": 14,
          "metadata": {},
          "output_type": "execute_result"
        }
      ],
      "source": [
        "torch.mul(tensor, 10)"
      ]
    },
    {
      "cell_type": "markdown",
      "metadata": {
        "id": "KMlpKwh6YKGt"
      },
      "source": [
        "### Matrix multiplication\n",
        "One of the most common operations in machine learning and deep learning algorithms (like neural networks) is matrix multiplication.\n",
        "\n",
        "\n",
        "Matrix multiplication (is all you need)\n",
        "One of the most common operations in machine learning and deep learning algorithms (like neural networks) is matrix multiplication.\n",
        "\n",
        "PyTorch implements matrix multiplication functionality in the torch.matmul() method.\n",
        "\n",
        "The main two rules for matrix multiplication to remember are:\n",
        "\n",
        "1. The inner dimensions must match:\n",
        "* (3, 2) @ (3, 2) won't work\n",
        "* (2, 3) @ (3, 2) will work\n",
        "* (3, 2) @ (2, 3) will work\n",
        "2. The resulting matrix has the shape of the outer dimensions:\n",
        "* (2, 3) @ (3, 2) -> (2, 2)\n",
        "* (3, 2) @ (2, 3) -> (3, 3)\n",
        "Note: \"@\" in Python is the symbol for matrix multiplication."
      ]
    },
    {
      "cell_type": "code",
      "execution_count": 15,
      "metadata": {
        "colab": {
          "base_uri": "https://localhost:8080/"
        },
        "id": "hn-EcAShYFCV",
        "outputId": "b8321ce2-2d9c-46a3-f1df-a126dd15f581"
      },
      "outputs": [
        {
          "data": {
            "text/plain": [
              "torch.Size([3])"
            ]
          },
          "execution_count": 15,
          "metadata": {},
          "output_type": "execute_result"
        }
      ],
      "source": [
        "tensor = torch.tensor([1,2,3])\n",
        "\n",
        "tensor.shape"
      ]
    },
    {
      "cell_type": "code",
      "execution_count": 16,
      "metadata": {
        "colab": {
          "base_uri": "https://localhost:8080/"
        },
        "id": "bVUkPcqYY53W",
        "outputId": "0506e189-2c2f-4aff-b306-9ab4a3220ed4"
      },
      "outputs": [
        {
          "data": {
            "text/plain": [
              "tensor([1, 4, 9])"
            ]
          },
          "execution_count": 16,
          "metadata": {},
          "output_type": "execute_result"
        }
      ],
      "source": [
        "# Element-wise matrix multiplication\n",
        "tensor * tensor"
      ]
    },
    {
      "cell_type": "code",
      "execution_count": 30,
      "metadata": {
        "colab": {
          "base_uri": "https://localhost:8080/"
        },
        "id": "yDudsMfgY-zR",
        "outputId": "915164d4-730b-4992-bcdc-784b2353c0b2"
      },
      "outputs": [
        {
          "data": {
            "text/plain": [
              "tensor(14)"
            ]
          },
          "execution_count": 30,
          "metadata": {},
          "output_type": "execute_result"
        }
      ],
      "source": [
        "# Matrix multiplication\n",
        "#You can also use torch.mm() which is a short for torch.matmul().\n",
        "torch.matmul(tensor, tensor)"
      ]
    },
    {
      "cell_type": "code",
      "execution_count": 18,
      "metadata": {
        "colab": {
          "base_uri": "https://localhost:8080/"
        },
        "id": "ix6H334RZAXN",
        "outputId": "873023a7-626f-4238-b821-9f29cde1aaaa"
      },
      "outputs": [
        {
          "data": {
            "text/plain": [
              "tensor(14)"
            ]
          },
          "execution_count": 18,
          "metadata": {},
          "output_type": "execute_result"
        }
      ],
      "source": [
        "# Can also use the \"@\" symbol for matrix multiplication, though not recommended\n",
        "tensor @ tensor"
      ]
    },
    {
      "cell_type": "code",
      "execution_count": 22,
      "metadata": {
        "colab": {
          "base_uri": "https://localhost:8080/"
        },
        "id": "FY95GJa9ZCgx",
        "outputId": "5ec330c9-2966-47ee-babb-2f04b543a0c2"
      },
      "outputs": [
        {
          "name": "stdout",
          "output_type": "stream",
          "text": [
            "CPU times: user 295 µs, sys: 21 µs, total: 316 µs\n",
            "Wall time: 324 µs\n"
          ]
        },
        {
          "data": {
            "text/plain": [
              "tensor(14)"
            ]
          },
          "execution_count": 22,
          "metadata": {},
          "output_type": "execute_result"
        }
      ],
      "source": [
        "%%time\n",
        "# Matrix multiplication by hand\n",
        "# (avoid doing operations with for loops at all cost, they are computationally expensive)\n",
        "value = 0\n",
        "for i in range(len(tensor)):\n",
        "  value += tensor[i] * tensor[i]\n",
        "value"
      ]
    },
    {
      "cell_type": "code",
      "execution_count": 26,
      "metadata": {
        "colab": {
          "base_uri": "https://localhost:8080/"
        },
        "id": "PvQr6hJAZEmq",
        "outputId": "6a8f711f-92ff-414c-aaf4-0f8e2f4928cc"
      },
      "outputs": [
        {
          "name": "stdout",
          "output_type": "stream",
          "text": [
            "CPU times: user 101 µs, sys: 7 µs, total: 108 µs\n",
            "Wall time: 113 µs\n"
          ]
        },
        {
          "data": {
            "text/plain": [
              "tensor(14)"
            ]
          },
          "execution_count": 26,
          "metadata": {},
          "output_type": "execute_result"
        }
      ],
      "source": [
        "%%time\n",
        "torch.matmul(tensor, tensor)"
      ]
    },
    {
      "cell_type": "code",
      "execution_count": 27,
      "metadata": {
        "colab": {
          "base_uri": "https://localhost:8080/",
          "height": 182
        },
        "id": "TeEoxcOrZHKa",
        "outputId": "ee3b235d-6859-4706-ab7b-ec680bce6ad8"
      },
      "outputs": [
        {
          "ename": "RuntimeError",
          "evalue": "mat1 and mat2 shapes cannot be multiplied (3x2 and 3x2)",
          "output_type": "error",
          "traceback": [
            "\u001b[0;31m---------------------------------------------------------------------------\u001b[0m",
            "\u001b[0;31mRuntimeError\u001b[0m                              Traceback (most recent call last)",
            "\u001b[0;32m<ipython-input-27-aceec990e652>\u001b[0m in \u001b[0;36m<cell line: 10>\u001b[0;34m()\u001b[0m\n\u001b[1;32m      8\u001b[0m                          [9, 12]], dtype=torch.float32)\n\u001b[1;32m      9\u001b[0m \u001b[0;34m\u001b[0m\u001b[0m\n\u001b[0;32m---> 10\u001b[0;31m \u001b[0mtorch\u001b[0m\u001b[0;34m.\u001b[0m\u001b[0mmatmul\u001b[0m\u001b[0;34m(\u001b[0m\u001b[0mtensor_A\u001b[0m\u001b[0;34m,\u001b[0m \u001b[0mtensor_B\u001b[0m\u001b[0;34m)\u001b[0m \u001b[0;31m# (this will error)\u001b[0m\u001b[0;34m\u001b[0m\u001b[0;34m\u001b[0m\u001b[0m\n\u001b[0m",
            "\u001b[0;31mRuntimeError\u001b[0m: mat1 and mat2 shapes cannot be multiplied (3x2 and 3x2)"
          ]
        }
      ],
      "source": [
        "# Shapes need to be in the right way\n",
        "tensor_A = torch.tensor([[1, 2],\n",
        "                         [3, 4],\n",
        "                         [5, 6]], dtype=torch.float32)\n",
        "\n",
        "tensor_B = torch.tensor([[7, 10],\n",
        "                         [8, 11],\n",
        "                         [9, 12]], dtype=torch.float32)\n",
        "\n",
        "torch.matmul(tensor_A, tensor_B) # (this will error)"
      ]
    },
    {
      "cell_type": "code",
      "execution_count": 28,
      "metadata": {
        "colab": {
          "base_uri": "https://localhost:8080/"
        },
        "id": "b5-pzKvSZTtX",
        "outputId": "0c09bd4f-0b6c-4afa-9f71-1e4d3e038d3a"
      },
      "outputs": [
        {
          "name": "stdout",
          "output_type": "stream",
          "text": [
            "tensor([[1., 2.],\n",
            "        [3., 4.],\n",
            "        [5., 6.]])\n",
            "tensor([[ 7.,  8.,  9.],\n",
            "        [10., 11., 12.]])\n"
          ]
        }
      ],
      "source": [
        "# View tensor_A and tensor_B.T\n",
        "print(tensor_A)\n",
        "print(tensor_B.T)"
      ]
    },
    {
      "cell_type": "code",
      "execution_count": 29,
      "metadata": {
        "colab": {
          "base_uri": "https://localhost:8080/"
        },
        "id": "9JeebVn2ZcQC",
        "outputId": "66e382c7-a27b-4c41-de49-43464e2b48dd"
      },
      "outputs": [
        {
          "name": "stdout",
          "output_type": "stream",
          "text": [
            "Original shapes: tensor_A = torch.Size([3, 2]), tensor_B = torch.Size([3, 2])\n",
            "\n",
            "New shapes: tensor_A = torch.Size([3, 2]) (same as above), tensor_B.T = torch.Size([2, 3])\n",
            "\n",
            "Multiplying: torch.Size([3, 2]) * torch.Size([2, 3]) <- inner dimensions match\n",
            "\n",
            "Output:\n",
            "\n",
            "tensor([[ 27.,  30.,  33.],\n",
            "        [ 61.,  68.,  75.],\n",
            "        [ 95., 106., 117.]])\n",
            "\n",
            "Output shape: torch.Size([3, 3])\n"
          ]
        }
      ],
      "source": [
        "# The operation works when tensor_B is transposed\n",
        "print(f\"Original shapes: tensor_A = {tensor_A.shape}, tensor_B = {tensor_B.shape}\\n\")\n",
        "print(f\"New shapes: tensor_A = {tensor_A.shape} (same as above), tensor_B.T = {tensor_B.T.shape}\\n\")\n",
        "print(f\"Multiplying: {tensor_A.shape} * {tensor_B.T.shape} <- inner dimensions match\\n\")\n",
        "print(\"Output:\\n\")\n",
        "output = torch.matmul(tensor_A, tensor_B.T)\n",
        "print(output)\n",
        "print(f\"\\nOutput shape: {output.shape}\")"
      ]
    },
    {
      "cell_type": "markdown",
      "metadata": {
        "id": "sQA2sNJwaOg9"
      },
      "source": [
        "### Finding the min, max, mean, sum, etc (aggregation)\n",
        "\n",
        "Note: You may find some methods such as torch.mean() require tensors to be in torch.float32 (the most common) or another specific datatype, otherwise the operation will fail."
      ]
    },
    {
      "cell_type": "code",
      "execution_count": 31,
      "metadata": {
        "id": "0l6GDyXGZd3u"
      },
      "outputs": [],
      "source": [
        "x = torch.arange(0,100,10)"
      ]
    },
    {
      "cell_type": "code",
      "execution_count": 32,
      "metadata": {
        "colab": {
          "base_uri": "https://localhost:8080/"
        },
        "id": "-xeJKz_GaWlk",
        "outputId": "f40205d3-4fa3-417c-e9f6-35ffe82fe3a2"
      },
      "outputs": [
        {
          "data": {
            "text/plain": [
              "tensor([ 0, 10, 20, 30, 40, 50, 60, 70, 80, 90])"
            ]
          },
          "execution_count": 32,
          "metadata": {},
          "output_type": "execute_result"
        }
      ],
      "source": [
        "x"
      ]
    },
    {
      "cell_type": "code",
      "execution_count": 33,
      "metadata": {
        "colab": {
          "base_uri": "https://localhost:8080/"
        },
        "id": "GZsqnhplaXFT",
        "outputId": "c94326cd-05b9-47d3-e75c-d783b969d8fc"
      },
      "outputs": [
        {
          "name": "stdout",
          "output_type": "stream",
          "text": [
            "Minimum: 0\n",
            "Maximum: 90\n",
            "Mean: 45.0\n",
            "Sum: 450\n"
          ]
        }
      ],
      "source": [
        "print(f\"Minimum: {x.min()}\")\n",
        "print(f\"Maximum: {x.max()}\")\n",
        "# print(f\"Mean: {x.mean()}\") # this will error\n",
        "print(f\"Mean: {x.type(torch.float32).mean()}\") # won't work without float datatype\n",
        "print(f\"Sum: {x.sum()}\")"
      ]
    },
    {
      "cell_type": "code",
      "execution_count": 34,
      "metadata": {
        "colab": {
          "base_uri": "https://localhost:8080/"
        },
        "id": "41Mt-JU_aZqt",
        "outputId": "11150083-beb9-4c5b-e078-b6c89af5299a"
      },
      "outputs": [
        {
          "data": {
            "text/plain": [
              "(tensor(90), tensor(0), tensor(45.), tensor(450))"
            ]
          },
          "execution_count": 34,
          "metadata": {},
          "output_type": "execute_result"
        }
      ],
      "source": [
        "torch.max(x), torch.min(x), torch.mean(x.type(torch.float32)), torch.sum(x)"
      ]
    },
    {
      "cell_type": "code",
      "execution_count": 35,
      "metadata": {
        "colab": {
          "base_uri": "https://localhost:8080/"
        },
        "id": "4xgrZgSZal-R",
        "outputId": "1f88fef1-fea8-46dc-f5ab-e8a79e0514b4"
      },
      "outputs": [
        {
          "name": "stdout",
          "output_type": "stream",
          "text": [
            "Tensor: tensor([10, 20, 30, 40, 50, 60, 70, 80, 90])\n",
            "Index where max value occurs: 8\n",
            "Index where min value occurs: 0\n"
          ]
        }
      ],
      "source": [
        "# Create a tensor\n",
        "tensor = torch.arange(10, 100, 10)\n",
        "print(f\"Tensor: {tensor}\")\n",
        "\n",
        "# Returns index of max and min values\n",
        "print(f\"Index where max value occurs: {tensor.argmax()}\")\n",
        "print(f\"Index where min value occurs: {tensor.argmin()}\")"
      ]
    },
    {
      "cell_type": "markdown",
      "metadata": {
        "id": "RnMXYWOFazEa"
      },
      "source": [
        "### Change tensor datatype"
      ]
    },
    {
      "cell_type": "code",
      "execution_count": 36,
      "metadata": {
        "id": "INSaIIFRarDn"
      },
      "outputs": [],
      "source": [
        "tensor = torch.arange(10.,100.,10.)"
      ]
    },
    {
      "cell_type": "code",
      "execution_count": 37,
      "metadata": {
        "colab": {
          "base_uri": "https://localhost:8080/"
        },
        "id": "EJBh6-kya6-v",
        "outputId": "1a9ea304-e7b1-4e44-982f-de5105f8ebf8"
      },
      "outputs": [
        {
          "data": {
            "text/plain": [
              "torch.float32"
            ]
          },
          "execution_count": 37,
          "metadata": {},
          "output_type": "execute_result"
        }
      ],
      "source": [
        "tensor.dtype"
      ]
    },
    {
      "cell_type": "code",
      "execution_count": 38,
      "metadata": {
        "id": "LQwtv2qea9Jz"
      },
      "outputs": [],
      "source": [
        "tensor_float16 = tensor.type(torch.float16)"
      ]
    },
    {
      "cell_type": "code",
      "execution_count": 39,
      "metadata": {
        "colab": {
          "base_uri": "https://localhost:8080/"
        },
        "id": "rlplyxmZbKK3",
        "outputId": "48ae1525-8359-4c13-ad8a-e0430f6cba72"
      },
      "outputs": [
        {
          "data": {
            "text/plain": [
              "tensor([10., 20., 30., 40., 50., 60., 70., 80., 90.], dtype=torch.float16)"
            ]
          },
          "execution_count": 39,
          "metadata": {},
          "output_type": "execute_result"
        }
      ],
      "source": [
        "tensor_float16"
      ]
    },
    {
      "cell_type": "code",
      "execution_count": 40,
      "metadata": {
        "colab": {
          "base_uri": "https://localhost:8080/"
        },
        "id": "IhBbHRtVbNCY",
        "outputId": "592b34a1-8ee6-43cd-e766-459f283c7ba2"
      },
      "outputs": [
        {
          "data": {
            "text/plain": [
              "tensor([10, 20, 30, 40, 50, 60, 70, 80, 90], dtype=torch.int8)"
            ]
          },
          "execution_count": 40,
          "metadata": {},
          "output_type": "execute_result"
        }
      ],
      "source": [
        "# Create a int8 tensor\n",
        "tensor_int8 = tensor.type(torch.int8)\n",
        "tensor_int8"
      ]
    },
    {
      "cell_type": "markdown",
      "metadata": {
        "id": "Jl50YIehbeyZ"
      },
      "source": [
        "### Reshaping, stacking, squeezing and unsqueezing\n",
        "Often times you'll want to reshape or change the dimensions of your tensors without actually changing the values inside them.\n"
      ]
    },
    {
      "cell_type": "code",
      "execution_count": 41,
      "metadata": {
        "id": "o7TXtLU7bPZs"
      },
      "outputs": [],
      "source": [
        "x=torch.arange(1.,8.)"
      ]
    },
    {
      "cell_type": "code",
      "execution_count": 42,
      "metadata": {
        "colab": {
          "base_uri": "https://localhost:8080/"
        },
        "id": "R4DpnD-wcJ3_",
        "outputId": "08932dc4-c52a-47ef-e9d4-d046e0872747"
      },
      "outputs": [
        {
          "data": {
            "text/plain": [
              "(tensor([1., 2., 3., 4., 5., 6., 7.]), torch.Size([7]))"
            ]
          },
          "execution_count": 42,
          "metadata": {},
          "output_type": "execute_result"
        }
      ],
      "source": [
        "x, x.shape"
      ]
    },
    {
      "cell_type": "code",
      "execution_count": 43,
      "metadata": {
        "colab": {
          "base_uri": "https://localhost:8080/"
        },
        "id": "CU76d6r0cMe_",
        "outputId": "db22694e-b9af-4408-83ce-71838001c7ef"
      },
      "outputs": [
        {
          "data": {
            "text/plain": [
              "(tensor([[1., 2., 3., 4., 5., 6., 7.]]), torch.Size([1, 7]))"
            ]
          },
          "execution_count": 43,
          "metadata": {},
          "output_type": "execute_result"
        }
      ],
      "source": [
        "# Add an extra dimension\n",
        "x_reshaped = x.reshape(1, 7)\n",
        "x_reshaped, x_reshaped.shape"
      ]
    },
    {
      "cell_type": "code",
      "execution_count": 44,
      "metadata": {
        "colab": {
          "base_uri": "https://localhost:8080/"
        },
        "id": "xZLA9ANYdcsT",
        "outputId": "73784983-58dd-4426-de96-7b8e9bad5832"
      },
      "outputs": [
        {
          "data": {
            "text/plain": [
              "(tensor([[1., 2., 3., 4., 5., 6., 7.]]), torch.Size([1, 7]))"
            ]
          },
          "execution_count": 44,
          "metadata": {},
          "output_type": "execute_result"
        }
      ],
      "source": [
        "# Change view (keeps same data as original but changes view)\n",
        "# See more: https://stackoverflow.com/a/54507446/7900723\n",
        "z = x.view(1, 7)\n",
        "z, z.shape"
      ]
    },
    {
      "cell_type": "code",
      "execution_count": 46,
      "metadata": {
        "colab": {
          "base_uri": "https://localhost:8080/"
        },
        "id": "xdU5NviudgH2",
        "outputId": "1731643f-a5d4-4d7c-cad1-f9d34ff93628"
      },
      "outputs": [
        {
          "data": {
            "text/plain": [
              "(tensor([[5., 2., 3., 4., 5., 6., 7.]]), tensor([5., 2., 3., 4., 5., 6., 7.]))"
            ]
          },
          "execution_count": 46,
          "metadata": {},
          "output_type": "execute_result"
        }
      ],
      "source": [
        "# Changing z changes x\n",
        "z[:, 0] = 5\n",
        "z, x"
      ]
    },
    {
      "cell_type": "code",
      "execution_count": 47,
      "metadata": {
        "colab": {
          "base_uri": "https://localhost:8080/"
        },
        "id": "N8VtxEiTdkux",
        "outputId": "bfabf4f2-285d-4d73-f4ff-03b65789a1c5"
      },
      "outputs": [
        {
          "data": {
            "text/plain": [
              "tensor([[5., 2., 3., 4., 5., 6., 7.],\n",
              "        [5., 2., 3., 4., 5., 6., 7.],\n",
              "        [5., 2., 3., 4., 5., 6., 7.],\n",
              "        [5., 2., 3., 4., 5., 6., 7.]])"
            ]
          },
          "execution_count": 47,
          "metadata": {},
          "output_type": "execute_result"
        }
      ],
      "source": [
        "# Stack tensors on top of each other\n",
        "x_stacked = torch.stack([x, x, x, x], dim=0) # try changing dim to dim=1 and see what happens\n",
        "x_stacked"
      ]
    },
    {
      "cell_type": "code",
      "execution_count": 48,
      "metadata": {
        "colab": {
          "base_uri": "https://localhost:8080/"
        },
        "id": "4c89Kq8Mdp77",
        "outputId": "1b3140a4-5be0-473e-aa74-868fc485cdde"
      },
      "outputs": [
        {
          "data": {
            "text/plain": [
              "tensor([[5., 5., 5., 5.],\n",
              "        [2., 2., 2., 2.],\n",
              "        [3., 3., 3., 3.],\n",
              "        [4., 4., 4., 4.],\n",
              "        [5., 5., 5., 5.],\n",
              "        [6., 6., 6., 6.],\n",
              "        [7., 7., 7., 7.]])"
            ]
          },
          "execution_count": 48,
          "metadata": {},
          "output_type": "execute_result"
        }
      ],
      "source": [
        "# Stack tensors on top of each other\n",
        "x_stacked = torch.stack([x, x, x, x], dim=1)\n",
        "x_stacked"
      ]
    },
    {
      "cell_type": "code",
      "execution_count": 49,
      "metadata": {
        "colab": {
          "base_uri": "https://localhost:8080/"
        },
        "id": "U1rvLRALdwKR",
        "outputId": "be2ac2fc-ffe9-4709-c509-a428f392da83"
      },
      "outputs": [
        {
          "name": "stdout",
          "output_type": "stream",
          "text": [
            "Previous tensor: tensor([[5., 2., 3., 4., 5., 6., 7.]])\n",
            "Previous shape: torch.Size([1, 7])\n",
            "\n",
            "New tensor: tensor([5., 2., 3., 4., 5., 6., 7.])\n",
            "New shape: torch.Size([7])\n"
          ]
        }
      ],
      "source": [
        "print(f\"Previous tensor: {x_reshaped}\")\n",
        "print(f\"Previous shape: {x_reshaped.shape}\")\n",
        "\n",
        "# Remove extra dimension from x_reshaped\n",
        "x_squeezed = x_reshaped.squeeze()\n",
        "print(f\"\\nNew tensor: {x_squeezed}\")\n",
        "print(f\"New shape: {x_squeezed.shape}\")"
      ]
    },
    {
      "cell_type": "code",
      "execution_count": 50,
      "metadata": {
        "colab": {
          "base_uri": "https://localhost:8080/"
        },
        "id": "B_R5DYDQdzCS",
        "outputId": "e55b2084-b013-494a-a46c-8ed0a7d4f58b"
      },
      "outputs": [
        {
          "name": "stdout",
          "output_type": "stream",
          "text": [
            "Previous tensor: tensor([5., 2., 3., 4., 5., 6., 7.])\n",
            "Previous shape: torch.Size([7])\n",
            "\n",
            "New tensor: tensor([[5., 2., 3., 4., 5., 6., 7.]])\n",
            "New shape: torch.Size([1, 7])\n"
          ]
        }
      ],
      "source": [
        "print(f\"Previous tensor: {x_squeezed}\")\n",
        "print(f\"Previous shape: {x_squeezed.shape}\")\n",
        "\n",
        "## Add an extra dimension with unsqueeze\n",
        "x_unsqueezed = x_squeezed.unsqueeze(dim=0)\n",
        "print(f\"\\nNew tensor: {x_unsqueezed}\")\n",
        "print(f\"New shape: {x_unsqueezed.shape}\")"
      ]
    },
    {
      "cell_type": "code",
      "execution_count": 51,
      "metadata": {
        "colab": {
          "base_uri": "https://localhost:8080/"
        },
        "id": "wiCCg5A-d0z-",
        "outputId": "f3759f48-6411-4b8a-cdad-682b493bb6e5"
      },
      "outputs": [
        {
          "name": "stdout",
          "output_type": "stream",
          "text": [
            "Previous shape: torch.Size([224, 224, 3])\n",
            "New shape: torch.Size([3, 224, 224])\n"
          ]
        }
      ],
      "source": [
        "# Create tensor with specific shape\n",
        "x_original = torch.rand(size=(224, 224, 3))\n",
        "\n",
        "# Permute the original tensor to rearrange the axis order\n",
        "x_permuted = x_original.permute(2, 0, 1) # shifts axis 0->1, 1->2, 2->0\n",
        "\n",
        "print(f\"Previous shape: {x_original.shape}\")\n",
        "print(f\"New shape: {x_permuted.shape}\")"
      ]
    },
    {
      "cell_type": "markdown",
      "metadata": {
        "id": "yqkoSOgqd-TA"
      },
      "source": [
        "Note: Because permuting returns a view (shares the same data as the original), the values in the permuted tensor will be the same as the original tensor and if you change the values in the view, it will change the values of the original."
      ]
    },
    {
      "cell_type": "markdown",
      "metadata": {
        "id": "FcJvjl9reD37"
      },
      "source": [
        "### Indexing (selecting data from tensors)"
      ]
    },
    {
      "cell_type": "code",
      "execution_count": 52,
      "metadata": {
        "id": "lTFc6cjfd5aD"
      },
      "outputs": [],
      "source": [
        "import torch\n",
        "x = torch.arange(1,10).reshape(1,3,3)"
      ]
    },
    {
      "cell_type": "code",
      "execution_count": 53,
      "metadata": {
        "colab": {
          "base_uri": "https://localhost:8080/"
        },
        "id": "9a13i2kGeMYb",
        "outputId": "7eda9824-e1f7-4d1e-a571-6829eafa3052"
      },
      "outputs": [
        {
          "data": {
            "text/plain": [
              "(tensor([[[1, 2, 3],\n",
              "          [4, 5, 6],\n",
              "          [7, 8, 9]]]),\n",
              " torch.Size([1, 3, 3]))"
            ]
          },
          "execution_count": 53,
          "metadata": {},
          "output_type": "execute_result"
        }
      ],
      "source": [
        "x, x.shape"
      ]
    },
    {
      "cell_type": "code",
      "execution_count": 54,
      "metadata": {
        "colab": {
          "base_uri": "https://localhost:8080/"
        },
        "id": "tQzFx8iHeOaY",
        "outputId": "f7b6d891-ab40-4ec5-9518-66a47145c441"
      },
      "outputs": [
        {
          "name": "stdout",
          "output_type": "stream",
          "text": [
            "First square bracket:\n",
            "tensor([[1, 2, 3],\n",
            "        [4, 5, 6],\n",
            "        [7, 8, 9]])\n",
            "Second square bracket: tensor([1, 2, 3])\n",
            "Third square bracket: 1\n"
          ]
        }
      ],
      "source": [
        "# Let's index bracket by bracket\n",
        "print(f\"First square bracket:\\n{x[0]}\")\n",
        "print(f\"Second square bracket: {x[0][0]}\")\n",
        "print(f\"Third square bracket: {x[0][0][0]}\")"
      ]
    },
    {
      "cell_type": "code",
      "execution_count": 55,
      "metadata": {
        "colab": {
          "base_uri": "https://localhost:8080/"
        },
        "id": "WqYl8lLoeT1q",
        "outputId": "026ffe72-a6a3-4db9-b104-6de3b394dbcc"
      },
      "outputs": [
        {
          "data": {
            "text/plain": [
              "tensor([[1, 2, 3]])"
            ]
          },
          "execution_count": 55,
          "metadata": {},
          "output_type": "execute_result"
        }
      ],
      "source": [
        "# Get all values of 0th dimension and the 0 index of 1st dimension\n",
        "x[:, 0]"
      ]
    },
    {
      "cell_type": "code",
      "execution_count": 56,
      "metadata": {
        "colab": {
          "base_uri": "https://localhost:8080/"
        },
        "id": "rdTqIZeveaxx",
        "outputId": "1a8afa3f-a1b0-4ebe-ef66-133875e48014"
      },
      "outputs": [
        {
          "data": {
            "text/plain": [
              "tensor([[2, 5, 8]])"
            ]
          },
          "execution_count": 56,
          "metadata": {},
          "output_type": "execute_result"
        }
      ],
      "source": [
        "# Get all values of 0th & 1st dimensions but only index 1 of 2nd dimension\n",
        "x[:, :, 1]"
      ]
    },
    {
      "cell_type": "code",
      "execution_count": 57,
      "metadata": {
        "colab": {
          "base_uri": "https://localhost:8080/"
        },
        "id": "R6CNB-iDedoV",
        "outputId": "cefa210d-3a70-4c84-e65d-e7ba3e0f6993"
      },
      "outputs": [
        {
          "data": {
            "text/plain": [
              "tensor([1, 2, 3])"
            ]
          },
          "execution_count": 57,
          "metadata": {},
          "output_type": "execute_result"
        }
      ],
      "source": [
        "# Get index 0 of 0th and 1st dimension and all values of 2nd dimension\n",
        "x[0, 0, :] # same as x[0][0]"
      ]
    },
    {
      "cell_type": "code",
      "execution_count": 58,
      "metadata": {
        "colab": {
          "base_uri": "https://localhost:8080/"
        },
        "id": "EpPdo70BehjH",
        "outputId": "7f71cd7d-7c39-4583-e629-bd3ad9dbed22"
      },
      "outputs": [
        {
          "data": {
            "text/plain": [
              "tensor([5])"
            ]
          },
          "execution_count": 58,
          "metadata": {},
          "output_type": "execute_result"
        }
      ],
      "source": [
        "# Get all values of the 0 dimension but only the 1 index value of the 1st and 2nd dimension\n",
        "x[:, 1, 1]"
      ]
    },
    {
      "cell_type": "markdown",
      "metadata": {
        "id": "pEQ8ZX7lF7Xe"
      },
      "source": [
        "### PyTorch tensors & NumPy"
      ]
    },
    {
      "cell_type": "code",
      "execution_count": 1,
      "metadata": {
        "colab": {
          "base_uri": "https://localhost:8080/"
        },
        "id": "9_k8rsykGYPd",
        "outputId": "9011786b-1ece-4386-e483-8c965efcaa1b"
      },
      "outputs": [
        {
          "data": {
            "text/plain": [
              "(array([1., 2., 3., 4., 5., 6., 7.]),\n",
              " tensor([1., 2., 3., 4., 5., 6., 7.], dtype=torch.float64))"
            ]
          },
          "execution_count": 1,
          "metadata": {},
          "output_type": "execute_result"
        }
      ],
      "source": [
        "# NumPy array to tensor\n",
        "import torch\n",
        "import numpy as np\n",
        "array = np.arange(1.0, 8.0)\n",
        "tensor = torch.from_numpy(array)\n",
        "array, tensor"
      ]
    },
    {
      "cell_type": "markdown",
      "metadata": {
        "id": "33DO33hlGcXB"
      },
      "source": [
        "Note: By default, NumPy arrays are created with the datatype float64 and if you convert it to a PyTorch tensor, it'll keep the same datatype (as above)"
      ]
    },
    {
      "cell_type": "code",
      "execution_count": 3,
      "metadata": {
        "colab": {
          "base_uri": "https://localhost:8080/"
        },
        "id": "mcTwXbhjGibe",
        "outputId": "f6e2ac3d-b070-42b3-e21f-11eca6ac6b5f"
      },
      "outputs": [
        {
          "data": {
            "text/plain": [
              "(array([2., 3., 4., 5., 6., 7., 8.]),\n",
              " tensor([1., 2., 3., 4., 5., 6., 7.], dtype=torch.float64))"
            ]
          },
          "execution_count": 3,
          "metadata": {},
          "output_type": "execute_result"
        }
      ],
      "source": [
        "# Change the array, keep the tensor\n",
        "array = array + 1\n",
        "array, tensor"
      ]
    },
    {
      "cell_type": "code",
      "execution_count": 4,
      "metadata": {
        "colab": {
          "base_uri": "https://localhost:8080/"
        },
        "id": "1oyxIRdvGmLE",
        "outputId": "97bff18f-28f5-4979-f209-99723fd39985"
      },
      "outputs": [
        {
          "data": {
            "text/plain": [
              "(array([3., 4., 5., 6., 7., 8., 9.]),\n",
              " tensor([1., 2., 3., 4., 5., 6., 7.], dtype=torch.float64))"
            ]
          },
          "execution_count": 4,
          "metadata": {},
          "output_type": "execute_result"
        }
      ],
      "source": [
        "# Change the array, keep the tensor\n",
        "array = array + 1\n",
        "array, tensor"
      ]
    },
    {
      "cell_type": "code",
      "execution_count": 6,
      "metadata": {
        "colab": {
          "base_uri": "https://localhost:8080/"
        },
        "id": "Qeq-wSVjG1Dc",
        "outputId": "8f0e5513-aca7-4029-a257-c3265eaf6035"
      },
      "outputs": [
        {
          "data": {
            "text/plain": [
              "(tensor([1., 1., 1., 1., 1., 1., 1.]),\n",
              " array([1., 1., 1., 1., 1., 1., 1.], dtype=float32))"
            ]
          },
          "execution_count": 6,
          "metadata": {},
          "output_type": "execute_result"
        }
      ],
      "source": [
        "# Tensor to NumPy array\n",
        "tensor = torch.ones(7) # create a tensor of ones with dtype=float32\n",
        "numpy_tensor = tensor.numpy() # will be dtype=float32 unless changed\n",
        "tensor, numpy_tensor"
      ]
    },
    {
      "cell_type": "code",
      "execution_count": 7,
      "metadata": {
        "colab": {
          "base_uri": "https://localhost:8080/"
        },
        "id": "wX4eM3Z6Gr_Q",
        "outputId": "761d6c15-99da-48ee-93d6-a9837cb71d86"
      },
      "outputs": [
        {
          "data": {
            "text/plain": [
              "(tensor([2., 2., 2., 2., 2., 2., 2.]),\n",
              " array([1., 1., 1., 1., 1., 1., 1.], dtype=float32))"
            ]
          },
          "execution_count": 7,
          "metadata": {},
          "output_type": "execute_result"
        }
      ],
      "source": [
        "# Change the tensor, keep the array the same\n",
        "tensor = tensor + 1\n",
        "tensor, numpy_tensor"
      ]
    },
    {
      "cell_type": "markdown",
      "metadata": {
        "id": "_UojfuGWGvcq"
      },
      "source": [
        "### Reproducibility (trying to take the random out of random)"
      ]
    },
    {
      "cell_type": "code",
      "execution_count": 8,
      "metadata": {
        "colab": {
          "base_uri": "https://localhost:8080/"
        },
        "id": "FAECOnOtG7Ui",
        "outputId": "fa7911de-8131-40e2-b191-16ffffd00965"
      },
      "outputs": [
        {
          "name": "stdout",
          "output_type": "stream",
          "text": [
            "Tensor A:\n",
            "tensor([[0.4171, 0.8373, 0.9090, 0.8323],\n",
            "        [0.0175, 0.4966, 0.4604, 0.0228],\n",
            "        [0.2586, 0.2176, 0.8412, 0.4496]])\n",
            "\n",
            "Tensor B:\n",
            "tensor([[0.8703, 0.1363, 0.4833, 0.2106],\n",
            "        [0.4077, 0.7685, 0.9970, 0.6786],\n",
            "        [0.9912, 0.6679, 0.1372, 0.6159]])\n",
            "\n",
            "Does Tensor A equal Tensor B? (anywhere)\n"
          ]
        },
        {
          "data": {
            "text/plain": [
              "tensor([[False, False, False, False],\n",
              "        [False, False, False, False],\n",
              "        [False, False, False, False]])"
            ]
          },
          "execution_count": 8,
          "metadata": {},
          "output_type": "execute_result"
        }
      ],
      "source": [
        "import torch\n",
        "\n",
        "# Create two random tensors\n",
        "random_tensor_A = torch.rand(3, 4)\n",
        "random_tensor_B = torch.rand(3, 4)\n",
        "\n",
        "print(f\"Tensor A:\\n{random_tensor_A}\\n\")\n",
        "print(f\"Tensor B:\\n{random_tensor_B}\\n\")\n",
        "print(f\"Does Tensor A equal Tensor B? (anywhere)\")\n",
        "random_tensor_A == random_tensor_B"
      ]
    },
    {
      "cell_type": "code",
      "execution_count": 10,
      "metadata": {
        "colab": {
          "base_uri": "https://localhost:8080/"
        },
        "id": "vTs8o15JG_FJ",
        "outputId": "5b374db7-8330-4418-e158-edfd8aa29de3"
      },
      "outputs": [
        {
          "name": "stdout",
          "output_type": "stream",
          "text": [
            "Tensor C:\n",
            "tensor([[0.8823, 0.9150, 0.3829, 0.9593],\n",
            "        [0.3904, 0.6009, 0.2566, 0.7936],\n",
            "        [0.9408, 0.1332, 0.9346, 0.5936]])\n",
            "\n",
            "Tensor D:\n",
            "tensor([[0.8823, 0.9150, 0.3829, 0.9593],\n",
            "        [0.3904, 0.6009, 0.2566, 0.7936],\n",
            "        [0.9408, 0.1332, 0.9346, 0.5936]])\n",
            "\n",
            "Does Tensor C equal Tensor D? (anywhere)\n"
          ]
        },
        {
          "data": {
            "text/plain": [
              "tensor([[True, True, True, True],\n",
              "        [True, True, True, True],\n",
              "        [True, True, True, True]])"
            ]
          },
          "execution_count": 10,
          "metadata": {},
          "output_type": "execute_result"
        }
      ],
      "source": [
        "import torch\n",
        "import random\n",
        "\n",
        "# # Set the random seed\n",
        "RANDOM_SEED=42 # try changing this to different values and see what happens to the numbers below\n",
        "torch.manual_seed(seed=RANDOM_SEED)\n",
        "random_tensor_C = torch.rand(3, 4)\n",
        "\n",
        "# Have to reset the seed every time a new rand() is called\n",
        "# Without this, tensor_D would be different to tensor_C\n",
        "torch.random.manual_seed(seed=RANDOM_SEED) # try commenting this line out and seeing what happens\n",
        "random_tensor_D = torch.rand(3, 4)\n",
        "\n",
        "print(f\"Tensor C:\\n{random_tensor_C}\\n\")\n",
        "print(f\"Tensor D:\\n{random_tensor_D}\\n\")\n",
        "print(f\"Does Tensor C equal Tensor D? (anywhere)\")\n",
        "random_tensor_C == random_tensor_D"
      ]
    },
    {
      "cell_type": "markdown",
      "metadata": {
        "id": "YyTj7kZ_HBWp"
      },
      "source": [
        "### Running tensors on GPUs (and making faster computations)"
      ]
    },
    {
      "cell_type": "code",
      "execution_count": 1,
      "metadata": {
        "colab": {
          "base_uri": "https://localhost:8080/"
        },
        "id": "s0IRM4PzHJXg",
        "outputId": "437949b8-cd61-475b-ebbc-7caebbcac481"
      },
      "outputs": [
        {
          "name": "stdout",
          "output_type": "stream",
          "text": [
            "Sat Apr 27 10:32:38 2024       \n",
            "+---------------------------------------------------------------------------------------+\n",
            "| NVIDIA-SMI 535.104.05             Driver Version: 535.104.05   CUDA Version: 12.2     |\n",
            "|-----------------------------------------+----------------------+----------------------+\n",
            "| GPU  Name                 Persistence-M | Bus-Id        Disp.A | Volatile Uncorr. ECC |\n",
            "| Fan  Temp   Perf          Pwr:Usage/Cap |         Memory-Usage | GPU-Util  Compute M. |\n",
            "|                                         |                      |               MIG M. |\n",
            "|=========================================+======================+======================|\n",
            "|   0  Tesla T4                       Off | 00000000:00:04.0 Off |                    0 |\n",
            "| N/A   52C    P8              10W /  70W |      0MiB / 15360MiB |      0%      Default |\n",
            "|                                         |                      |                  N/A |\n",
            "+-----------------------------------------+----------------------+----------------------+\n",
            "                                                                                         \n",
            "+---------------------------------------------------------------------------------------+\n",
            "| Processes:                                                                            |\n",
            "|  GPU   GI   CI        PID   Type   Process name                            GPU Memory |\n",
            "|        ID   ID                                                             Usage      |\n",
            "|=======================================================================================|\n",
            "|  No running processes found                                                           |\n",
            "+---------------------------------------------------------------------------------------+\n"
          ]
        }
      ],
      "source": [
        "!nvidia-smi"
      ]
    },
    {
      "cell_type": "code",
      "execution_count": 2,
      "metadata": {
        "colab": {
          "base_uri": "https://localhost:8080/"
        },
        "id": "1aYaI3TOHS1E",
        "outputId": "d4bf78d6-cb24-412a-d771-075eb822a50c"
      },
      "outputs": [
        {
          "data": {
            "text/plain": [
              "True"
            ]
          },
          "execution_count": 2,
          "metadata": {},
          "output_type": "execute_result"
        }
      ],
      "source": [
        "# Getting PyTorch to run on the GPU\n",
        "# Check for GPU\n",
        "import torch\n",
        "torch.cuda.is_available()"
      ]
    },
    {
      "cell_type": "code",
      "execution_count": 3,
      "metadata": {
        "colab": {
          "base_uri": "https://localhost:8080/",
          "height": 36
        },
        "id": "P8_ivJb-Hd6q",
        "outputId": "18b0d146-8946-44c7-b45d-c40b809b1434"
      },
      "outputs": [
        {
          "data": {
            "application/vnd.google.colaboratory.intrinsic+json": {
              "type": "string"
            },
            "text/plain": [
              "'cuda'"
            ]
          },
          "execution_count": 3,
          "metadata": {},
          "output_type": "execute_result"
        }
      ],
      "source": [
        "# Set device type\n",
        "device = \"cuda\" if torch.cuda.is_available() else \"cpu\"\n",
        "device"
      ]
    },
    {
      "cell_type": "code",
      "execution_count": 4,
      "metadata": {
        "colab": {
          "base_uri": "https://localhost:8080/"
        },
        "id": "GBIlMntgHg0q",
        "outputId": "642bcc97-ae43-4134-8777-8b70911bc809"
      },
      "outputs": [
        {
          "data": {
            "text/plain": [
              "1"
            ]
          },
          "execution_count": 4,
          "metadata": {},
          "output_type": "execute_result"
        }
      ],
      "source": [
        "# Count number of devices\n",
        "torch.cuda.device_count()"
      ]
    },
    {
      "cell_type": "markdown",
      "metadata": {
        "id": "kS1mmpMfHmBS"
      },
      "source": [
        "### Putting tensors (and models) on the GPU"
      ]
    },
    {
      "cell_type": "code",
      "execution_count": 5,
      "metadata": {
        "colab": {
          "base_uri": "https://localhost:8080/"
        },
        "id": "PBLp7x2jHjGv",
        "outputId": "6b2069b6-b293-4364-8bf2-d85ac2af8800"
      },
      "outputs": [
        {
          "name": "stdout",
          "output_type": "stream",
          "text": [
            "tensor([1, 2, 3]) cpu\n"
          ]
        },
        {
          "data": {
            "text/plain": [
              "tensor([1, 2, 3], device='cuda:0')"
            ]
          },
          "execution_count": 5,
          "metadata": {},
          "output_type": "execute_result"
        }
      ],
      "source": [
        "# Create tensor (default on CPU)\n",
        "tensor = torch.tensor([1, 2, 3])\n",
        "\n",
        "# Tensor not on GPU\n",
        "print(tensor, tensor.device)\n",
        "\n",
        "# Move tensor to GPU (if available)\n",
        "tensor_on_gpu = tensor.to(device)\n",
        "tensor_on_gpu"
      ]
    },
    {
      "cell_type": "code",
      "execution_count": 6,
      "metadata": {
        "colab": {
          "base_uri": "https://localhost:8080/",
          "height": 164
        },
        "id": "i2Hofmi0Hrko",
        "outputId": "452a5467-4951-4381-b921-4c239efae25a"
      },
      "outputs": [
        {
          "ename": "TypeError",
          "evalue": "can't convert cuda:0 device type tensor to numpy. Use Tensor.cpu() to copy the tensor to host memory first.",
          "output_type": "error",
          "traceback": [
            "\u001b[0;31m---------------------------------------------------------------------------\u001b[0m",
            "\u001b[0;31mTypeError\u001b[0m                                 Traceback (most recent call last)",
            "\u001b[0;32m<ipython-input-6-53175578f49e>\u001b[0m in \u001b[0;36m<cell line: 2>\u001b[0;34m()\u001b[0m\n\u001b[1;32m      1\u001b[0m \u001b[0;31m# If tensor is on GPU, can't transform it to NumPy (this will error)\u001b[0m\u001b[0;34m\u001b[0m\u001b[0;34m\u001b[0m\u001b[0m\n\u001b[0;32m----> 2\u001b[0;31m \u001b[0mtensor_on_gpu\u001b[0m\u001b[0;34m.\u001b[0m\u001b[0mnumpy\u001b[0m\u001b[0;34m(\u001b[0m\u001b[0;34m)\u001b[0m\u001b[0;34m\u001b[0m\u001b[0;34m\u001b[0m\u001b[0m\n\u001b[0m",
            "\u001b[0;31mTypeError\u001b[0m: can't convert cuda:0 device type tensor to numpy. Use Tensor.cpu() to copy the tensor to host memory first."
          ]
        }
      ],
      "source": [
        "# If tensor is on GPU, can't transform it to NumPy (this will error)\n",
        "tensor_on_gpu.numpy()"
      ]
    },
    {
      "cell_type": "code",
      "execution_count": 7,
      "metadata": {
        "colab": {
          "base_uri": "https://localhost:8080/"
        },
        "id": "O7qf6tsDHyVA",
        "outputId": "73f53f8e-a4ee-42a2-e0f3-eb438ad97977"
      },
      "outputs": [
        {
          "data": {
            "text/plain": [
              "array([1, 2, 3])"
            ]
          },
          "execution_count": 7,
          "metadata": {},
          "output_type": "execute_result"
        }
      ],
      "source": [
        "# Instead, copy the tensor back to cpu\n",
        "tensor_back_on_cpu = tensor_on_gpu.cpu().numpy()\n",
        "tensor_back_on_cpu"
      ]
    },
    {
      "cell_type": "code",
      "execution_count": 8,
      "metadata": {
        "colab": {
          "base_uri": "https://localhost:8080/"
        },
        "id": "asL5uFxAH0o_",
        "outputId": "0f6edc09-5b1f-4b82-e2a0-90b098380c0a"
      },
      "outputs": [
        {
          "data": {
            "text/plain": [
              "tensor([1, 2, 3], device='cuda:0')"
            ]
          },
          "execution_count": 8,
          "metadata": {},
          "output_type": "execute_result"
        }
      ],
      "source": [
        "tensor_on_gpu"
      ]
    },
    {
      "cell_type": "code",
      "execution_count": null,
      "metadata": {
        "id": "upyOIs_DH2Pk"
      },
      "outputs": [],
      "source": []
    }
  ],
  "metadata": {
    "accelerator": "GPU",
    "colab": {
      "gpuType": "T4",
      "provenance": []
    },
    "kernelspec": {
      "display_name": "Python 3",
      "name": "python3"
    },
    "language_info": {
      "name": "python"
    }
  },
  "nbformat": 4,
  "nbformat_minor": 0
}
